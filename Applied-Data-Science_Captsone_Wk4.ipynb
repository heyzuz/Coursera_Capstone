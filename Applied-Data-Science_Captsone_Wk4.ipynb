{
 "cells": [
  {
   "cell_type": "markdown",
   "metadata": {},
   "source": [
    "# Peer-graded Assignment: Capstone Project - The Battle of Neighborhoods (Week 1)"
   ]
  },
  {
   "cell_type": "markdown",
   "metadata": {},
   "source": [
    "## 1. Introduction\n",
    "\n",
    "Being the son of migrant workers having to relocate was a constant through my childhood and even now when trying to find employment. For most of the moves we did growing up there seemed to be a relative or family friend living in our next destination. This provided me and my family a sense of camaraderie, a sense of belonging even as we travel and joined new communities. As such to make it easier to other Latinos to find a place of belonging this project aims to cluster and segment Kansas City's neighborhoods to determine potential locations to live or enjoy a night out.\n",
    "\n",
    "Hispanic migration to the Kansas City area dates as far back as the 1830s, when the Santa Fe Trail opened up trade from Mexico. But the first major wave of immigration came with the establishment of railroads in Kansas City, Kan., and Kansas City, Mo. In the past 20 years, turmoil in Central America and Mexico has brought a new wave of immigration to the Kansas City area, revitalizing the historic Hispanic communities.\n",
    "\n",
    "Target audiences for this project does not limit to Latino and Hispanic people but everyone. People could simply decide to look for a restaurant all the time because they are enjoy the food. \n"
   ]
  },
  {
   "cell_type": "markdown",
   "metadata": {},
   "source": [
    "## 2. Data\n",
    "\n",
    "### Data Required to resolve the problem\n",
    "\n",
    "In order to make a good choice in finding a location to reside in the Kansas City area the following data is required:\n",
    "1. List/Information on neighborhoods from Kansas City with their respective Geodata (latitude and longitude)\n",
    "2. Listed apartments for rent in Kansas City area\n",
    "4. Venues and amenities in the Kansas City neighborhoods (e.g. top 10) \n",
    "\n",
    "This data will provide a set of parameters to determine the location of Latino centric communities where anyone can relocate.Determinig the venues in these neighborhoods will allow others who only seek for a place to eat or enjoy a night "
   ]
  },
  {
   "cell_type": "code",
   "execution_count": null,
   "metadata": {},
   "outputs": [],
   "source": []
  }
 ],
 "metadata": {
  "kernelspec": {
   "display_name": "Python",
   "language": "python",
   "name": "conda-env-python-py"
  },
  "language_info": {
   "codemirror_mode": {
    "name": "ipython",
    "version": 3
   },
   "file_extension": ".py",
   "mimetype": "text/x-python",
   "name": "python",
   "nbconvert_exporter": "python",
   "pygments_lexer": "ipython3",
   "version": "3.6.10"
  }
 },
 "nbformat": 4,
 "nbformat_minor": 4
}
